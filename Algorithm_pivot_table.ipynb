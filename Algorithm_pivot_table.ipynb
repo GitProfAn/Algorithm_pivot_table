{
 "metadata": {
  "language_info": {
   "codemirror_mode": {
    "name": "ipython",
    "version": 3
   },
   "file_extension": ".py",
   "mimetype": "text/x-python",
   "name": "python",
   "nbconvert_exporter": "python",
   "pygments_lexer": "ipython3",
   "version": "3.8.8-final"
  },
  "orig_nbformat": 2,
  "kernelspec": {
   "name": "python388jvsc74a57bd03410afedb74081d81603511028deadddc25ba0f01c14e0cb891e2c2473f81884",
   "display_name": "Python 3.8.8 64-bit"
  }
 },
 "nbformat": 4,
 "nbformat_minor": 2,
 "cells": [
  {
   "source": [
    "# Algorithms' pivot table  \n",
    "\n",
    "| Algorithm <img width=100/> | Difficulty <img width=25/> | Category <img width=25/> | Time comp. <img width=10/> | Space comp. |\n",
    "| :------------------ | :--------------- | :----- | :----- | :----- |\n",
    "| Validate Subsequence | Easy | Arrays | O(n) | O(1) |\n",
    "| Two Number Sum | Easy | Arrays | O(n) | O(n) |\n",
    "| Sorted Squared Array | Easy | Arrays | O(n)  | O(n) |\n",
    "\n"
   ],
   "cell_type": "markdown",
   "metadata": {}
  },
  {
   "source": [
    "## Validate Subsequence\n",
    "\n",
    "It's important to maintain the same order of numbers in array and Subsequence\n"
   ],
   "cell_type": "markdown",
   "metadata": {}
  },
  {
   "source": [
    "```python\n",
    "# while\n",
    "\n",
    "def validateSubsequence(array, sequence):\n",
    "    arrIdx = 0\n",
    "    seqIdx = 0\n",
    "    while arrIdx < len(array) and seqIdx < len(sequence):\n",
    "        if array[arrIdx] == sequence[seqIdx]:\n",
    "            seqIdx += 1\n",
    "        arrIdx += 1\n",
    "    return seqIdx == len(sequence)\n",
    "\n",
    "array = [1, 2, 3, 4, 5, 6, 7, 8, 9, 10]\n",
    "sequence = [2, 4, 6, 8, 10]\n",
    "\n",
    "validateSubsequence(array, sequence)\n",
    "\n",
    "#True\n",
    "```"
   ],
   "cell_type": "markdown",
   "metadata": {}
  },
  {
   "cell_type": "code",
   "execution_count": 4,
   "metadata": {},
   "outputs": [
    {
     "output_type": "execute_result",
     "data": {
      "text/plain": [
       "True"
      ]
     },
     "metadata": {},
     "execution_count": 4
    }
   ],
   "source": [
    "# for\n",
    "\n",
    "def validateSubsequence(array, sequence):\n",
    "    seqIdx = 0\n",
    "    for value in array:\n",
    "        if seqIdx == len(sequence):\n",
    "            break\n",
    "        if sequence[seqIdx] == value:\n",
    "            seqIdx += 1\n",
    "    return seqIdx == len(sequence)\n",
    "\n",
    "array = [1, 2, 3, 4, 5, 6, 7, 8, 9, 10]\n",
    "sequence = [2, 4, 6, 8, 10]\n",
    "# expected return True\n",
    "\n",
    "\n",
    "validateSubsequence(array, sequence)"
   ]
  },
  {
   "source": [
    "## Two Number Sum\n",
    "\n",
    "Each value presents in array one time only"
   ],
   "cell_type": "markdown",
   "metadata": {}
  },
  {
   "cell_type": "code",
   "execution_count": 1,
   "metadata": {},
   "outputs": [
    {
     "output_type": "execute_result",
     "data": {
      "text/plain": [
       "[11, -1]"
      ]
     },
     "metadata": {},
     "execution_count": 1
    }
   ],
   "source": [
    "def twonumbersSum(array, targetSum):\n",
    "    nums = {}\n",
    "    for num in array:\n",
    "        potentialMatch = targetSum - num\n",
    "        if potentialMatch in nums:\n",
    "            return [potentialMatch, num]\n",
    "        else:\n",
    "            nums[num] = True\n",
    "    return []\n",
    "\n",
    "\n",
    "array = [3, 5, -4, 8, 11, 1, -1, 6]\n",
    "targetSum = 10\n",
    "# expected return [11, -1]\n",
    "\n",
    "\n",
    "twonumbersSum(array, targetSum)"
   ]
  },
  {
   "source": [
    "## Sorted Squared Array"
   ],
   "cell_type": "markdown",
   "metadata": {}
  },
  {
   "cell_type": "code",
   "execution_count": 4,
   "metadata": {},
   "outputs": [
    {
     "output_type": "execute_result",
     "data": {
      "text/plain": [
       "[0, 1, 4, 9, 16]"
      ]
     },
     "metadata": {},
     "execution_count": 4
    }
   ],
   "source": [
    "def sortedSquareArray(array):\n",
    "    sortedSquares = [0 for _ in array]\n",
    "    smallerValueIdx = 0\n",
    "    lagerValueIdx = len(array) - 1\n",
    "\n",
    "    for idx in reversed(range(len(array))):\n",
    "        smallerValue = array[smallerValueIdx]\n",
    "        lagerValue = array[lagerValueIdx]\n",
    "\n",
    "        if abs(smallerValue) > abs(lagerValue):\n",
    "            sortedSquares[idx] = smallerValue * smallerValue\n",
    "            smallerValueIdx += 1\n",
    "        else:\n",
    "            sortedSquares[idx] = lagerValue * lagerValue\n",
    "            lagerValueIdx -= 1\n",
    "\n",
    "    return sortedSquares\n",
    "\n",
    "\n",
    "array = [-4, -2, 0, 1, 3]\n",
    "# expected return [0, 1, 4, 9, 16]\n",
    "\n",
    "\n",
    "sortedSquareArray(array)"
   ]
  }
 ]
}