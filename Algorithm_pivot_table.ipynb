{
 "metadata": {
  "language_info": {
   "codemirror_mode": {
    "name": "ipython",
    "version": 3
   },
   "file_extension": ".py",
   "mimetype": "text/x-python",
   "name": "python",
   "nbconvert_exporter": "python",
   "pygments_lexer": "ipython3",
   "version": "3.8.8"
  },
  "orig_nbformat": 2,
  "kernelspec": {
   "name": "python388jvsc74a57bd03410afedb74081d81603511028deadddc25ba0f01c14e0cb891e2c2473f81884",
   "display_name": "Python 3.8.8 64-bit"
  }
 },
 "nbformat": 4,
 "nbformat_minor": 2,
 "cells": [
  {
   "source": [
    "# Algorithms' pivot table  \n",
    "\n",
    "| № <img width=25/> | Algorithm <img width=100/> | Difficulty <img width=35/> | Category <img width=65/> | Time comp. <img width=15/> | Space comp. |\n",
    "| :- | :------------------ | :--------------- | :----- | :----- | :----- |\n",
    "| 1 | Validate Subsequence | Easy – 1/25 | Arrays – 1/24 | O(n) | O(1) |\n",
    "| 2 | Two Number Sum | Easy – 2/25 | Arrays – 2/24 | O(n) | O(n) |\n",
    "| 3 | Sorted Squared Array | Easy – 3/25 | Arrays – 3/24 | O(n)  | O(n) |\n",
    "| 4 | Tournament Winner | Easy – 4/25 | Arrays – 4/24 | O(n)  | O(n) |\n",
    "| 5 | ~~Non-Constructible Change~~ | Easy – 5/25 | Arrays – 5/24 |\n",
    "| 6 | Find Closest Value In BST | Easy – 6/25 | BST – 5/24 | O(log(n)) | O(1) |\n",
    "| 7 | Branch Sums | Easy – 7/25 | Binary Trees – 1/10 | O(n) | O(n) |\n",
    "| 8 | ~~Node Depths~~ | Easy – 8/25 | Binary Trees – 2/10 |\n",
    "| 9 | ~~Depth-first Search~~ | Easy – 9/25 | Graphs – 1/11 |\n",
    "| 10 | Minimum Waiting Time | Easy – 10/25 | Greedy Algorithms – 1/5 | O(n*log(n)) | O(1) |\n",
    "| 11 | Class Photos | Easy – 11/25 | Greedy Algorithms – 2/5 | O(n*log(n)) | O(1) |\n",
    "| 12 | Tandem Bicycle | Easy – 12/25 | Greedy Algorithms – 3/5 | O(n*log(n)) | O(1) |\n",
    "| 13 | ~~Remove Duplicates From Linked List~~ | Easy – 13/25 | Linked List – 1/12 |\n",
    "| 14 | Nth Fibonacci | Easy – 14/25 | Recursion – 1/12 | O(n) | O(1) |\n",
    "| 15 | Product Sum | Easy – 15/25 | Recursion – 2/12 | O(n) | O(depth) |\n",
    "| 16 | Binary Search | Easy – 16/25 | Searching – 1/7 | O(log(n)) | O(1) |\n",
    "| 17 | Find Three Largest Numbers | Easy – 17/25 | Searching – 2/7 | O(n) | O(1) |\n",
    "| 18 | Bubble Sort | Easy – 18/25 | Sorting – 1/8 | O(n^2) | O(1) |\n",
    "| 19 | Insertion Sort | Easy – 19/25 | Sorting – 2/8 | O(n^2) | O(1) |\n",
    "| 20 | Selection Sort | Easy – 20/25 | Sorting – 3/8 | O(n^2) | O(1) |\n",
    "| 21 | Palindrome Check | Easy – 21/25 | Strings – 1/14 | O(n) | O(1) |\n",
    "| 22 | Caesar Cipher Encryptor | Easy – 22/25 | Strings – 2/14 | O(n) | O(n) |\n",
    "| 23 | Run-Length Encoding | Easy – 23/25 | Strings – 3/14 | O(n) | O(n) |\n",
    "| 24 | Generate Document | Easy – 24/25 | Strings – 4/14 | O(n + m) | O(c) |\n",
    "| 25 | First Non-Repeating Character | Easy – 25/25 | Strings – 5/14 | O(n) | O(1) |\n",
    "| 26 | River Sizes | Medium – 1/50 | Graphs – 2/11 |  O(wh) | O(wh) |\n",
    "| 27 | Three Number Sum | Medium – 2/50 | Arrays – 6/24 | O(n^2) | O(1) |\n",
    "| 28 | Smallest Difference | Medium – 3/50 | Arrays – 7/24 | O(n*log(n) + m*log(m)) | O(1) |\n",
    "| 29 | Move Element To End | Medium – 4/50 | Arrays – 8/24 | O(n) | O(1) |\n",
    "| 30 | Monotonic Array | Medium – 5/50 | Arrays – 9/24 | O(n) | O(1) |\n",
    "| 31 | Spiral Traverse | Medium – 6/50 | Arrays – 10/24 | O(n) | O(n) |\n",
    "| 32 | Longest Peak | Medium – 7/50 | Arrays – 11/24 | O(n) | O(1) |\n",
    "| 33 | Array Of Products | Medium – 8/50 | Arrays – 12/24 | O(n)  | O(n) |\n",
    "| 34 | First Duplicate Value | Medium – 9/50 | Arrays – 13/24 | O(n) | O(1) |\n",
    "| 35 | Merge Overlapping Intervals | Medium – 10/50 | Arrays – 14/24 | O(n*log(n)) | O(n) |\n",
    "| 36 | BST Construction | Medium – 11/50 | BST – 2/10 | O(log(n)) | O(1) |\n",
    "| 37 | Validate BST | Medium – 12/50 | BST – 3/10 | O(n) | O(d) |\n",
    "| 38 | BST Traversal | Medium – 13/50 | BST – 4/10 | O(n) | O(n) |"
   ],
   "cell_type": "markdown",
   "metadata": {}
  },
  {
   "source": [
    "## Validate Subsequence\n",
    "\n",
    "It's important to maintain the same order of numbers in array and subsequence\n"
   ],
   "cell_type": "markdown",
   "metadata": {}
  },
  {
   "cell_type": "code",
   "execution_count": null,
   "metadata": {},
   "outputs": [],
   "source": [
    "def validateSubsequence(array, sequence):\n",
    "    seqIdx = 0\n",
    "    for value in array:\n",
    "        if seqIdx == len(sequence):\n",
    "            break\n",
    "        if sequence[seqIdx] == value:\n",
    "            seqIdx += 1\n",
    "    return seqIdx == len(sequence)\n",
    "\n",
    "\n",
    "array = [1, 2, 3, 4, 5, 6, 7, 8, 9, 10]\n",
    "sequence = [2, 4, 6, 8, 10]\n",
    "# expected return True\n",
    "\n",
    "\n",
    "validateSubsequence(array, sequence)"
   ]
  },
  {
   "source": [
    "## Two Number Sum\n",
    "\n",
    "Each value presents in array one time only"
   ],
   "cell_type": "markdown",
   "metadata": {}
  },
  {
   "cell_type": "code",
   "execution_count": null,
   "metadata": {},
   "outputs": [],
   "source": [
    "def twonumbersSum(array, targetSum):\n",
    "    nums = {}\n",
    "    for num in array:\n",
    "        potentialMatch = targetSum - num\n",
    "        if potentialMatch in nums:\n",
    "            return [potentialMatch, num]\n",
    "        else:\n",
    "            nums[num] = True\n",
    "    return []\n",
    "\n",
    "\n",
    "array = [3, 5, -4, 8, 11, 1, -1, 6]\n",
    "targetSum = 10\n",
    "# expected return [11, -1]\n",
    "\n",
    "\n",
    "twonumbersSum(array, targetSum)"
   ]
  },
  {
   "source": [
    "## Sorted Squared Array  \n",
    "Input array must be previously sorted"
   ],
   "cell_type": "markdown",
   "metadata": {}
  },
  {
   "cell_type": "code",
   "execution_count": null,
   "metadata": {},
   "outputs": [],
   "source": [
    "def sortedSquareArray(array):\n",
    "    sortedSquares = [0 for _ in array]\n",
    "    smallerValueIdx = 0\n",
    "    lagerValueIdx = len(array) - 1\n",
    "\n",
    "    for idx in reversed(range(len(array))):\n",
    "        smallerValue = array[smallerValueIdx]\n",
    "        lagerValue = array[lagerValueIdx]\n",
    "\n",
    "        if abs(smallerValue) > abs(lagerValue):\n",
    "            sortedSquares[idx] = smallerValue * smallerValue\n",
    "            smallerValueIdx += 1\n",
    "        else:\n",
    "            sortedSquares[idx] = lagerValue * lagerValue\n",
    "            lagerValueIdx -= 1\n",
    "\n",
    "    return sortedSquares\n",
    "\n",
    "\n",
    "array = [-4, -2, 0, 1, 3]\n",
    "# expected return [0, 1, 4, 9, 16]\n",
    "\n",
    "\n",
    "sortedSquareArray(array)"
   ]
  },
  {
   "source": [
    "## Tournament Winner"
   ],
   "cell_type": "markdown",
   "metadata": {}
  },
  {
   "cell_type": "code",
   "execution_count": null,
   "metadata": {},
   "outputs": [],
   "source": [
    "HOME_TEAM_WON = 1\n",
    "\n",
    "def tournamentWinner(competitions, results):\n",
    "    currentBestTeam = \"\"\n",
    "    scores = {currentBestTeam: 0}\n",
    "\n",
    "    for idx, competition in enumerate(competitions):\n",
    "        result = results[idx]\n",
    "        homeTeam, awayTeam = competition\n",
    "\n",
    "        winningTeam = homeTeam if result == HOME_TEAM_WON else awayTeam\n",
    "\n",
    "        updateScores(winningTeam, 3, scores)\n",
    "\n",
    "        if scores[winningTeam] > scores[currentBestTeam]:\n",
    "            currentBestTeam = winningTeam\n",
    "\n",
    "    return currentBestTeam\n",
    "\n",
    "\n",
    "def updateScores(team, points, scores):\n",
    "    if team not in scores:\n",
    "        scores[team] = 0\n",
    "\n",
    "    scores[team] += points\n",
    "\n",
    "\n",
    "results = [0, 0, 1]\n",
    "# 0 - awayteam won, 1- hometeam won and no drawn game (or tie) is supposed\n",
    "competitions = [[\"HTML\", \"C#\"], [\"C#\", \"Python\"], [\"Python\", \"HTML\"]]\n",
    "# [0] - hometeam, [1] - awayteam\n",
    "# expected return 'Python'\n",
    "\n",
    "\n",
    "tournamentWinner(competitions, results)"
   ]
  },
  {
   "source": [
    "## Non-Constructible Change"
   ],
   "cell_type": "markdown",
   "metadata": {}
  },
  {
   "source": [
    "## Find Closest Value In BST (Binary Search Tree)"
   ],
   "cell_type": "markdown",
   "metadata": {}
  },
  {
   "cell_type": "code",
   "execution_count": null,
   "metadata": {},
   "outputs": [],
   "source": [
    "# run BST Construction\n",
    "# create the tree\n",
    "\n",
    "\n",
    "def findClosestValueInBst(tree, target):\n",
    "    return findClosestValueInBstHelper(tree, target, float(\"inf\"))\n",
    "\n",
    "\n",
    "def findClosestValueInBstHelper(tree, target, closest):\n",
    "    currentNode = tree\n",
    "    while currentNode is not None:\n",
    "        if abs(target - closest) > abs(target - currentNode.value):\n",
    "            closest = currentNode.value\n",
    "        if target < currentNode.value:\n",
    "            currentNode = currentNode.left\n",
    "        elif target > currentNode.value:\n",
    "            currentNode = currentNode.right\n",
    "        else:\n",
    "            break\n",
    "    return closest\n",
    "\n",
    "\n",
    "target = 10\n",
    "# expected return 7\n",
    "\n",
    "\n",
    "findClosestValueInBst(t, target)"
   ]
  },
  {
   "source": [
    "## Branch Sums"
   ],
   "cell_type": "markdown",
   "metadata": {}
  },
  {
   "cell_type": "code",
   "execution_count": null,
   "metadata": {},
   "outputs": [],
   "source": [
    "class BinaryTree:\n",
    "    def __init__(self, value):\n",
    "        self.value = value\n",
    "        self.left = None\n",
    "        self.right = None\n",
    "\n",
    "\n",
    "def branchSums(root):\n",
    "    sums = []\n",
    "    calculateBranchSums(root, 0, sums)\n",
    "    return sums\n",
    "\n",
    "\n",
    "def calculateBranchSums(node, runningSum, sums):\n",
    "    if node is None:\n",
    "        return\n",
    "\n",
    "    newRunningSum = runningSum + node.value\n",
    "    if node.left is None and node.right is None:\n",
    "        sums.append(newRunningSum)\n",
    "        return\n",
    "\n",
    "    calculateBranchSums(node.left, newRunningSum, sums)\n",
    "    calculateBranchSums(node.right, newRunningSum, sums)"
   ]
  },
  {
   "cell_type": "code",
   "execution_count": null,
   "metadata": {},
   "outputs": [],
   "source": [
    "tree = BinaryTree(1) # root\n",
    "\n",
    "\n",
    "tree.left = BinaryTree(2)\n",
    "tree.right = BinaryTree(3)\n",
    "tree.right.left = BinaryTree(6)\n",
    "tree.right.right = BinaryTree(7)\n",
    "tree.left.left = BinaryTree(4)\n",
    "tree.left.right = BinaryTree(5)\n",
    "tree.left.left.left = BinaryTree(8)\n",
    "tree.left.left.right = BinaryTree(9)\n",
    "tree.left.right.left = BinaryTree(10)\n",
    "\n",
    "    #             1\n",
    "    #          /    \\\n",
    "    #         2      3\n",
    "    #       /  \\    /  \\\n",
    "    #      4    5  6    7\n",
    "    #     / \\  /\n",
    "    #    8  9  10\n",
    "\n",
    "# expected return [15, 16, 18, 10, 11]\n",
    "\n",
    "\n",
    "branchSums(tree)"
   ]
  },
  {
   "source": [
    "## Node Depths"
   ],
   "cell_type": "markdown",
   "metadata": {}
  },
  {
   "source": [
    "## Depth-first Search"
   ],
   "cell_type": "markdown",
   "metadata": {}
  },
  {
   "cell_type": "code",
   "execution_count": null,
   "metadata": {},
   "outputs": [],
   "source": [
    "# def dfs(graph, start, visited=None):\n",
    "#     if visited is None:\n",
    "#         visited = set()\n",
    "#     visited.add(start)\n",
    "#     print(start)\n",
    "#     for next in graph[start] - visited:\n",
    "#         dfs(graph, next, visited)\n",
    "#     return visited\n",
    " \n",
    "# graph = {'0': set(['1', '2']),\n",
    "#          '1': set(['0', '3', '4']),\n",
    "#          '2': set(['0']),\n",
    "#          '3': set(['1']),\n",
    "#          '4': set(['2', '3'])}\n",
    " \n",
    "# dfs(graph, '0')"
   ]
  },
  {
   "source": [
    "## Minimum Waiting Time"
   ],
   "cell_type": "markdown",
   "metadata": {}
  },
  {
   "cell_type": "code",
   "execution_count": null,
   "metadata": {},
   "outputs": [],
   "source": [
    "def minimumWaitingTime(queries):\n",
    "    queries.sort()\n",
    "\n",
    "    totalWaitingTime = 0\n",
    "    for idx, duration in enumerate(queries):\n",
    "        queriesLeft = len(queries) - (idx + 1)\n",
    "        totalWaitingTime += duration * queriesLeft\n",
    "\n",
    "    return totalWaitingTime\n",
    "\n",
    "\n",
    "queries = [3, 2, 1, 2, 6]\n",
    "# expected return 17\n",
    "\n",
    "\n",
    "minimumWaitingTime(queries)"
   ]
  },
  {
   "source": [
    "## Class Photos\n",
    "\n",
    "Is it possible to position students from one list infront of the students from other list on a group photo. They should not overlap their heights."
   ],
   "cell_type": "markdown",
   "metadata": {}
  },
  {
   "cell_type": "code",
   "execution_count": null,
   "metadata": {},
   "outputs": [],
   "source": [
    "def classPhotos(redShirtHeights, blueShirtHeights):\n",
    "    redShirtHeights.sort(reverse=True)\n",
    "    blueShirtHeights.sort(reverse=True)\n",
    "\n",
    "    shirtColorInFirstRow = \"RED\" if redShirtHeights[0] < blueShirtHeights[0] else \"BLUE\"\n",
    "    for idx in range(len(redShirtHeights)):\n",
    "        redShirtHeight = redShirtHeights[idx]\n",
    "        blueShirtHeight = blueShirtHeights[idx]\n",
    "\n",
    "        if shirtColorInFirstRow == \"RED\":\n",
    "            if redShirtHeight >= blueShirtHeight:\n",
    "                return False\n",
    "        else:\n",
    "            if blueShirtHeight >= redShirtHeight:\n",
    "                return False\n",
    "\n",
    "    return True\n",
    "\n",
    "\n",
    "redShirtHeights = [5, 8, 1, 3, 4]\n",
    "blueShirtHeights = [6, 9, 2, 4, 5]\n",
    "# expected return True\n",
    "\n",
    "\n",
    "classPhotos(redShirtHeights, blueShirtHeights)\n"
   ]
  },
  {
   "source": [
    "## Tandem Bicycle\n",
    "Group in pairs max and min values from two arrays (max speed) or max values form both arrays (min speed)."
   ],
   "cell_type": "markdown",
   "metadata": {}
  },
  {
   "cell_type": "code",
   "execution_count": null,
   "metadata": {},
   "outputs": [],
   "source": [
    "def tandemBicycle(redShirtSpeeds, blueShirtSpeeds, fastest):\n",
    "    redShirtSpeeds.sort()\n",
    "    blueShirtSpeeds.sort()\n",
    "\n",
    "    if not fastest:\n",
    "        reverseArrayInPlace(redShirtSpeeds)\n",
    "\n",
    "    totalSpeed = 0\n",
    "    for idx in range(len(redShirtSpeeds)):\n",
    "        rider1 = redShirtSpeeds[idx]\n",
    "        rider2 = blueShirtSpeeds[len(blueShirtSpeeds) - idx -1]\n",
    "        totalSpeed += max(rider1, rider2)\n",
    "\n",
    "    return totalSpeed\n",
    "\n",
    "\n",
    "def reverseArrayInPlace(array):\n",
    "    start = 0\n",
    "    end = len(array) - 1\n",
    "    while start < end:\n",
    "        array[start], array[end] = array[end], array[start]\n",
    "        start += 1\n",
    "        end -= 1\n",
    "\n",
    "\n",
    "redShirtSpeeds = [5, 5, 3, 9, 2]\n",
    "blueShirtSpeeds = [3, 6, 7, 2, 1]\n",
    "# expected return 32 if fastest = True - max possible speed\n",
    "# expected return 25 if fastest = False - min possible speed\n",
    "\n",
    "\n",
    "tandemBicycle(redShirtSpeeds, blueShirtSpeeds, fastest=True)"
   ]
  },
  {
   "source": [
    "## Remove Duplicates From Linked List"
   ],
   "cell_type": "markdown",
   "metadata": {}
  },
  {
   "source": [
    "## Nth Fibonacci"
   ],
   "cell_type": "markdown",
   "metadata": {}
  },
  {
   "cell_type": "code",
   "execution_count": null,
   "metadata": {},
   "outputs": [],
   "source": [
    "def getNthFib(n):\n",
    "    lastTwo = [0, 1]\n",
    "    counter = 3\n",
    "    while counter <= n:\n",
    "        nextFib = lastTwo[0] + lastTwo[1]\n",
    "        lastTwo[0] = lastTwo[1]\n",
    "        lastTwo[1] = nextFib\n",
    "        counter += 1\n",
    "    return lastTwo[1] if n > 1 else lastTwo[0]\n",
    "\n",
    "\n",
    "n = 10\n",
    "# expected return 34\n",
    "\n",
    "\n",
    "getNthFib(10)"
   ]
  },
  {
   "source": [
    "## Product Sum\n",
    "Sum of each level is multiolied by its depth startign from 1."
   ],
   "cell_type": "markdown",
   "metadata": {}
  },
  {
   "cell_type": "code",
   "execution_count": null,
   "metadata": {},
   "outputs": [],
   "source": [
    "def productSum(array, multiplier = 1):\n",
    "    sum = 0\n",
    "    for element in array:\n",
    "        if type(element) is list:\n",
    "            sum += productSum(element, multiplier + 1)\n",
    "        else:\n",
    "            sum += element\n",
    "    return sum * multiplier\n",
    "\n",
    "\n",
    "array = [5, 2, [7, -1], 3, [6, [-13, 8], 4]]\n",
    "# expected return 12\n",
    "\n",
    "\n",
    "productSum(array, multiplier = 1)"
   ]
  },
  {
   "source": [
    "## Binary Search"
   ],
   "cell_type": "markdown",
   "metadata": {}
  },
  {
   "cell_type": "code",
   "execution_count": null,
   "metadata": {},
   "outputs": [],
   "source": [
    "def binarySearch(array, target):\n",
    "    return binarySearchHelper(array, target, 0, len(array) - 1)\n",
    "\n",
    "\n",
    "def binarySearchHelper(array, target, left, right):\n",
    "    while left <= right:\n",
    "        middle = (left + right) // 2\n",
    "        potentialMatch = array[middle]\n",
    "        if target == potentialMatch:\n",
    "            return middle\n",
    "        elif target < potentialMatch:\n",
    "            right = middle - 1\n",
    "        else:\n",
    "            left = middle + 1\n",
    "    return -1\n",
    "\n",
    "\n",
    "array = [0, 1, 21, 33, 45, 49, 61, 71, 72, 73]\n",
    "# expected return 4\n",
    "\n",
    "\n",
    "binarySearch(array, 45)"
   ]
  },
  {
   "source": [
    "## Find Three Largest Numbers"
   ],
   "cell_type": "markdown",
   "metadata": {}
  },
  {
   "cell_type": "code",
   "execution_count": null,
   "metadata": {},
   "outputs": [],
   "source": [
    "def findThreeLargestNumbers(array):\n",
    "    threeLargest = [None, None, None]\n",
    "    for num in array:\n",
    "        updateLargest(threeLargest, num)\n",
    "    return threeLargest\n",
    "\n",
    "\n",
    "def updateLargest(threeLargest, num):\n",
    "    if threeLargest[2] is None or num > threeLargest[2]:\n",
    "        shiftAndUpdate(threeLargest, num, 2)\n",
    "    elif threeLargest[1] is None or num > threeLargest[1]:\n",
    "        shiftAndUpdate(threeLargest, num, 1)\n",
    "    elif threeLargest[0] is None or num > threeLargest[0]:\n",
    "        shiftAndUpdate(threeLargest, num, 0)\n",
    "\n",
    "\n",
    "def shiftAndUpdate(array, num, idx):\n",
    "    for i in range(idx + 1):\n",
    "        if i == idx:\n",
    "            array[i] = num\n",
    "        else:\n",
    "            array[i] = array[i + 1]\n",
    "\n",
    "\n",
    "array = [141, 1, 17, -7, -17, -27, 18, 541, 8, 7, 7]\n",
    "# expected return [18, 141, 541]\n",
    "\n",
    "\n",
    "findThreeLargestNumbers(array)"
   ]
  },
  {
   "source": [
    "## Bubble Sort"
   ],
   "cell_type": "markdown",
   "metadata": {}
  },
  {
   "cell_type": "code",
   "execution_count": null,
   "metadata": {},
   "outputs": [],
   "source": [
    "def bubbkeSort(array):\n",
    "    isSorted = False\n",
    "    counter = 0\n",
    "    while not isSorted:\n",
    "        isSorted = True\n",
    "        for i in range(len(array) - 1 - counter):\n",
    "            if array[i] > array[i + 1]:\n",
    "                swap(i, i + 1, array)\n",
    "                isSorted = False\n",
    "        counter += 1\n",
    "    return array\n",
    "\n",
    "\n",
    "def swap(i, j, array):\n",
    "    array[i], array[j] = array[j], array[i]\n",
    "\n",
    "\n",
    "array = [8, 5, 2, 9, 5, 6, 3]\n",
    "# expected return [2, 3, 5, 5, 6, 8, 9]\n",
    "\n",
    "\n",
    "bubbkeSort(array)"
   ]
  },
  {
   "source": [
    "## Insertion Sort"
   ],
   "cell_type": "markdown",
   "metadata": {}
  },
  {
   "cell_type": "code",
   "execution_count": null,
   "metadata": {},
   "outputs": [],
   "source": [
    "def insertionSort(array):\n",
    "    for i in range(1, len(array)):\n",
    "        j = i\n",
    "        while j > 0 and array[j] < array[j - 1]:\n",
    "            swap(j, j - 1, array)\n",
    "            j -= 1\n",
    "    return array\n",
    "\n",
    "def swap(i, j, array):\n",
    "    array[i], array[j] = array[j], array[i]\n",
    "\n",
    "\n",
    "array = [8, 5, 2, 9, 5, 6, 3]\n",
    "# expected return [2, 3, 5, 5, 6, 8, 9]\n",
    "\n",
    "\n",
    "insertionSort(array)"
   ]
  },
  {
   "source": [
    "## Selection Sort"
   ],
   "cell_type": "markdown",
   "metadata": {}
  },
  {
   "cell_type": "code",
   "execution_count": null,
   "metadata": {},
   "outputs": [],
   "source": [
    "def selectionSort(array):\n",
    "    currentIdx = 0\n",
    "    while currentIdx < len(array) - 1:\n",
    "        smallestIdx = currentIdx\n",
    "        for i in range(currentIdx + 1, len(array)):\n",
    "            if array[smallestIdx] > array[i]:\n",
    "                smallestIdx = i\n",
    "        swap(currentIdx, smallestIdx, array)\n",
    "        currentIdx += 1\n",
    "    return array\n",
    "\n",
    "\n",
    "def swap(i, j, array):\n",
    "    array[i], array[j] = array[j], array[i]\n",
    "\n",
    "\n",
    "array = [8, 5, 2, 9, 5, 6, 3]\n",
    "# expected return [2, 3, 5, 5, 6, 8, 9]\n",
    "\n",
    "\n",
    "selectionSort(array)"
   ]
  },
  {
   "source": [
    "## Palindrome Check"
   ],
   "cell_type": "markdown",
   "metadata": {}
  },
  {
   "cell_type": "code",
   "execution_count": null,
   "metadata": {},
   "outputs": [],
   "source": [
    "def isPalindrome(string):\n",
    "    leftIdx = 0\n",
    "    rightIdx = len(string) - 1\n",
    "    while leftIdx < rightIdx:\n",
    "        if string[leftIdx] != string[rightIdx]:\n",
    "            return False\n",
    "        leftIdx += 1\n",
    "        rightIdx -= 1\n",
    "    return True\n",
    "\n",
    "\n",
    "string = \"abcdcba\"\n",
    "# expected return True\n",
    "\n",
    "\n",
    "isPalindrome(string)"
   ]
  },
  {
   "source": [
    "## Caesar Cipher Encryptor"
   ],
   "cell_type": "markdown",
   "metadata": {}
  },
  {
   "cell_type": "code",
   "execution_count": null,
   "metadata": {},
   "outputs": [],
   "source": [
    "def cesarCipherEncryptor(string, key):\n",
    "    newLetters = []\n",
    "    newKey = key % 26 # 26 is the number of letters in our alphabet\n",
    "    for letter in string:\n",
    "        newLetters.append(getNewLetter(letter, newKey))\n",
    "    return \"\".join(newLetters)\n",
    "\n",
    "\n",
    "def getNewLetter(letter, key):\n",
    "    newLetterCode = ord(letter) + key\n",
    "    return chr(newLetterCode) if newLetterCode <= 122 else chr(96 + newLetterCode % 122)\n",
    "\n",
    "\n",
    "# expected return 'zab'\n",
    "\n",
    "\n",
    "cesarCipherEncryptor(\"xyz\", 2)"
   ]
  },
  {
   "source": [
    "## Run-Length Encoding"
   ],
   "cell_type": "markdown",
   "metadata": {}
  },
  {
   "cell_type": "code",
   "execution_count": null,
   "metadata": {},
   "outputs": [],
   "source": [
    "def runLineEncoding(string):\n",
    "    encodedStringCharacters = []\n",
    "    currentRunLength = 1\n",
    "\n",
    "    for i in range(1, len(string)):\n",
    "        currentCharacter = string[i]\n",
    "        previuosCharacter = string[i - 1]\n",
    "\n",
    "        if currentCharacter != previuosCharacter or currentRunLength == 9: # 9 is a max possible counter\n",
    "            encodedStringCharacters.append(str(currentRunLength))\n",
    "            encodedStringCharacters.append(previuosCharacter)\n",
    "            currentRunLength = 0\n",
    "\n",
    "        currentRunLength += 1\n",
    "\n",
    "    encodedStringCharacters.append(str(currentRunLength))\n",
    "    encodedStringCharacters.append(string[len(string) - 1])\n",
    "\n",
    "    return \"\".join(encodedStringCharacters)\n",
    "\n",
    "\n",
    "string = \"AAAAAAAAAAAAABBCCCCDDD\"\n",
    "# expected return '9A4A2B4C3D'\n",
    "\n",
    "\n",
    "runLineEncoding(string)"
   ]
  },
  {
   "source": [
    "## Generate Document"
   ],
   "cell_type": "markdown",
   "metadata": {}
  },
  {
   "cell_type": "code",
   "execution_count": null,
   "metadata": {},
   "outputs": [],
   "source": [
    "def generateDocument(characters, document):\n",
    "    characterCounts = {}\n",
    "\n",
    "    for character in characters:\n",
    "        if character not in characterCounts:\n",
    "            characterCounts[character] = 0\n",
    "\n",
    "        characterCounts[character] += 1\n",
    "\n",
    "    for character in document:\n",
    "        if character not in characterCounts or characterCounts[character] == 0:\n",
    "            return False\n",
    "\n",
    "        characterCounts[character] -= 1\n",
    "\n",
    "    return True\n",
    "\n",
    "\n",
    "characters = \"sh_wo_no_og ! tsTum_het hr_p\"\n",
    "document = \"The_show_must_go on!\"\n",
    "# expected return True\n",
    "\n",
    "\n",
    "generateDocument(characters, document)"
   ]
  },
  {
   "source": [
    "## First Non-Repeating Character"
   ],
   "cell_type": "markdown",
   "metadata": {}
  },
  {
   "cell_type": "code",
   "execution_count": null,
   "metadata": {},
   "outputs": [],
   "source": [
    "def firstNonrepeatingCharacter(string):\n",
    "    characterFrequencies = {}\n",
    "\n",
    "    for character in string:\n",
    "        characterFrequencies[character] = characterFrequencies.get(character, 0) + 1\n",
    "\n",
    "    for idx in range(len(string)):\n",
    "        character = string[idx]\n",
    "        if characterFrequencies[character] == 1:\n",
    "            return idx\n",
    "\n",
    "    return -1\n",
    "\n",
    "\n",
    "string = \"abcdcaf\"\n",
    "# expected return 1\n",
    "\n",
    "\n",
    "firstNonrepeatingCharacter(string)"
   ]
  },
  {
   "source": [
    "## River Sizes"
   ],
   "cell_type": "markdown",
   "metadata": {}
  },
  {
   "cell_type": "code",
   "execution_count": null,
   "metadata": {},
   "outputs": [],
   "source": [
    "def riverSize(matrix):\n",
    "    size = []\n",
    "    visited = [[False for value in row] for row in matrix]\n",
    "    for i in range(len(matrix)):\n",
    "        for j in range(len(matrix[i])):\n",
    "            if visited[i][j]:\n",
    "                continue\n",
    "            traverseNode(i, j, matrix, visited, size)\n",
    "    return size\n",
    "\n",
    "\n",
    "def traverseNode(i, j, matrix, visited, size):\n",
    "    currenRiverSize = 0\n",
    "    nodesToExplore = [[i, j]]\n",
    "    while len(nodesToExplore):\n",
    "        currentNode = nodesToExplore.pop()\n",
    "        i = currentNode[0]\n",
    "        j = currentNode[1]\n",
    "        if visited[i][j]:\n",
    "            continue\n",
    "        visited[i][j] = True\n",
    "        if matrix[i][j] == 0:\n",
    "            continue\n",
    "        currenRiverSize += 1\n",
    "        unvisitedNeighbours = getUnvisitedNeighbours(i, j, matrix, visited)\n",
    "        for neighbor in unvisitedNeighbours:\n",
    "            nodesToExplore.append(neighbor)\n",
    "    if currenRiverSize > 0:\n",
    "        size.append(currenRiverSize)\n",
    "\n",
    "\n",
    "def getUnvisitedNeighbours(i, j, matrix, visited):\n",
    "    unvisitedNeighbours = []\n",
    "    if i > 0 and not visited[i - 1][j]:\n",
    "        unvisitedNeighbours.append([i - 1, j])\n",
    "    if i < len(matrix) - 1 and not visited[i + 1][j]:\n",
    "        unvisitedNeighbours.append([i + 1, j])\n",
    "    if j > 0 and not visited[i][j - 1]:\n",
    "        unvisitedNeighbours.append([i, j - 1])\n",
    "    if j < len(matrix[0]) - 1 and not visited[i][j + 1]:\n",
    "        unvisitedNeighbours.append([i, j + 1])\n",
    "    return unvisitedNeighbours\n",
    "\n",
    "\n",
    "matrix = [\n",
    "    [1, 0, 0, 1, 0],\n",
    "    [1, 0, 1, 0, 0],\n",
    "    [0, 0, 1, 0, 1],\n",
    "    [1, 0, 1, 0, 1],\n",
    "    [1, 0, 1, 1, 0]\n",
    "]\n",
    "# expected return [2, 1, 5, 2, 2]\n",
    "\n",
    "\n",
    "riverSize(matrix)"
   ]
  },
  {
   "source": [
    "## Three Number Sum"
   ],
   "cell_type": "markdown",
   "metadata": {}
  },
  {
   "cell_type": "code",
   "execution_count": null,
   "metadata": {},
   "outputs": [],
   "source": [
    "def threeNumberSum(array, targetSum):\n",
    "    array.sort()\n",
    "    triplets = []\n",
    "    for i in range(len(array) - 2):\n",
    "        left = i + 1\n",
    "        right = len(array) - 1\n",
    "        while left < right:\n",
    "            currentSum   = array[i] + array[left] + array[right]\n",
    "            if currentSum == targetSum:\n",
    "                triplets.append([array[i], array[left], array[right]])\n",
    "                left += 1\n",
    "                right -= 1\n",
    "            elif currentSum < targetSum:\n",
    "                left += 1\n",
    "            elif currentSum > targetSum:\n",
    "                right -= 1\n",
    "    return triplets\n",
    "\n",
    "\n",
    "array = [12, 3, 1, 2, -6, 5, -8, 6]\n",
    "targetSum = 0\n",
    "# expected return [[-8, 2, 6], [-8, 3, 5], [-6, 1, 5]]\n",
    "\n",
    "\n",
    "threeNumberSum(array, targetSum)"
   ]
  },
  {
   "source": [
    "## Smallest Difference"
   ],
   "cell_type": "markdown",
   "metadata": {}
  },
  {
   "cell_type": "code",
   "execution_count": null,
   "metadata": {},
   "outputs": [],
   "source": [
    "def smallestDiference(arrayOne, arrayTwo):\n",
    "    arrayOne.sort()\n",
    "    arrayTwo.sort()\n",
    "    idxOne = 0\n",
    "    idxTwo = 0\n",
    "    smallest = float(\"inf\")\n",
    "    current = float(\"inf\")\n",
    "    smallestPair = []\n",
    "    while idxOne < len(arrayOne) and idxTwo < len(arrayTwo):\n",
    "        firstNum = arrayOne[idxOne]\n",
    "        secondNum   = arrayTwo[idxTwo]\n",
    "        if firstNum < secondNum:\n",
    "            current = secondNum - firstNum\n",
    "            idxOne += 1\n",
    "        elif secondNum < firstNum:\n",
    "            current = firstNum - secondNum\n",
    "            idxTwo += 1\n",
    "        else:\n",
    "            return [firstNum, secondNum]\n",
    "        if smallest > current:\n",
    "            smallest = current\n",
    "            smallestPair = [firstNum, secondNum]\n",
    "    return smallestPair\n",
    "\n",
    "    \n",
    "arrayOne = [-1, 5, 10, 20, 28, 3]\n",
    "arrayTwo = [26, 134, 135, 15, 17]\n",
    "# expected return [28, 26]\n",
    "\n",
    "\n",
    "smallestDiference(arrayOne, arrayTwo)"
   ]
  },
  {
   "source": [
    "## Move Element To End"
   ],
   "cell_type": "markdown",
   "metadata": {}
  },
  {
   "cell_type": "code",
   "execution_count": null,
   "metadata": {},
   "outputs": [],
   "source": [
    "def moveElementToEnd(array, toMove):\n",
    "    i = 0\n",
    "    j = len(array) - 1\n",
    "    while i < j:\n",
    "        while i < j and array[j] == toMove:\n",
    "            j -= 1\n",
    "        if array[i] == toMove:\n",
    "            array[i], array[j] = array[j], array[i]\n",
    "        i += 1\n",
    "    return array\n",
    "\n",
    "\n",
    "array = [2, 1, 2, 2, 2, 3, 4, 2]\n",
    "toMove = 2\n",
    "# expected return [4, 1, 3, 2, 2, 2, 2, 2]\n",
    "\n",
    "\n",
    "moveElementToEnd(array, toMove)"
   ]
  },
  {
   "source": [
    "## Monotonic Array"
   ],
   "cell_type": "markdown",
   "metadata": {}
  },
  {
   "cell_type": "code",
   "execution_count": null,
   "metadata": {},
   "outputs": [],
   "source": [
    "def isMonotonic(array):\n",
    "    isNonDecreasing = True\n",
    "    isNonIncreasing = True\n",
    "    for i in range(1, len(array)):\n",
    "        if array[i] < array[i - 1]:\n",
    "            isNonDecreasing = False\n",
    "        if array[i] > array[i - 1]:\n",
    "            isNonIncreasing = False\n",
    "\n",
    "    return isNonDecreasing or isNonIncreasing\n",
    "\n",
    "\n",
    "array = [-1, -5, -10, -1100, -1100, -1101, -1102, -9001]\n",
    "# expected return True\n",
    "\n",
    "\n",
    "isMonotonic(array)"
   ]
  },
  {
   "source": [
    "## Spiral Traverse"
   ],
   "cell_type": "markdown",
   "metadata": {}
  },
  {
   "cell_type": "code",
   "execution_count": null,
   "metadata": {},
   "outputs": [],
   "source": [
    "def spiralTraverse(array):\n",
    "    result = []\n",
    "    startRow, endRow = 0, len(array) - 1\n",
    "    startCol, endCol = 0, len(array[0]) - 1\n",
    "\n",
    "    while startRow <= endRow and startCol <= endCol:\n",
    "        for col in range(startCol, endCol + 1):\n",
    "            result.append(array[startRow][col])\n",
    "\n",
    "        for row in range(startRow + 1, endRow + 1):\n",
    "            result.append(array[row][endCol])\n",
    "\n",
    "        for col in reversed(range(startCol, endCol)):\n",
    "            result.append(array[endRow][col])\n",
    "\n",
    "        for row in reversed(range(startRow + 1, endRow)):\n",
    "            result.append(array[row][startCol])\n",
    "\n",
    "        startRow += 1\n",
    "        endRow -= 1\n",
    "        startCol += 1\n",
    "        endCol -= 1\n",
    "\n",
    "    return result\n",
    "\n",
    "\n",
    "array = [[1, 2, 3, 4], [5, 6, 7, 8], [9, 10, 11, 12], [13, 14, 15, 16]] # straight input\n",
    "# expected return [1, 2, 3, 4, 8, 12, 16, 15, 14, 13, 9, 5, 6, 7, 11, 10] # spiral output\n",
    "\n",
    "# array = [[1, 2, 3, 4], [12, 13, 14, 5], [11, 16, 15, 6], [10, 9, 8, 7]] # spiral input\n",
    "# expected return [1, 2, 3, 4, 5, 6, 7, 8, 9, 10, 11, 12, 13, 14, 15, 16] # straight output\n",
    "\n",
    "\n",
    "spiralTraverse(array)"
   ]
  },
  {
   "source": [
    "## Longest Peak"
   ],
   "cell_type": "markdown",
   "metadata": {}
  },
  {
   "cell_type": "code",
   "execution_count": null,
   "metadata": {},
   "outputs": [],
   "source": [
    "def longestPeak(array):\n",
    "    longestPeakLength = 0\n",
    "    i = 1\n",
    "    while i < len(array) - 1:\n",
    "        isPeak = array[i - 1] < array[i] and array[i] > array[i + 1]\n",
    "        if not isPeak:\n",
    "            i += 1\n",
    "            continue\n",
    "\n",
    "        leftIdx = i - 2\n",
    "        while leftIdx >= 0 and array[leftIdx] < array[leftIdx + 1]:\n",
    "            leftIdx -= 1\n",
    "        rightIdx = i + 2\n",
    "        while rightIdx < len(array) and array[rightIdx] < array[rightIdx - 1]:\n",
    "            rightIdx += 1\n",
    "\n",
    "        currentPeakLength = rightIdx - leftIdx - 1\n",
    "        longestPeakLength = max(longestPeakLength, currentPeakLength)\n",
    "        i = rightIdx\n",
    "    return longestPeakLength\n",
    "\n",
    "\n",
    "array = [1, 2, 3, 3, 4, 0, 10, 6, 5, -1, -3, 2, 3]\n",
    "# expected return 6\n",
    "\n",
    "\n",
    "longestPeak(array)"
   ]
  },
  {
   "source": [
    "## Array Of Products"
   ],
   "cell_type": "markdown",
   "metadata": {}
  },
  {
   "cell_type": "code",
   "execution_count": null,
   "metadata": {},
   "outputs": [],
   "source": [
    "def arrayOfProducts(array):\n",
    "    products = [1 for _ in range(len(array))]\n",
    "\n",
    "    leftRunningProduct = 1\n",
    "    for i in range(len(array)):\n",
    "        products[i] = leftRunningProduct\n",
    "        leftRunningProduct *= array[i]\n",
    "\n",
    "    rightRunningProduct = 1\n",
    "    for i in reversed(range(len(array))):\n",
    "        products[i] *= rightRunningProduct\n",
    "        rightRunningProduct *= array[i]\n",
    "\n",
    "    return products\n",
    "\n",
    "\n",
    "array = [5, 1, 4, 2]\n",
    "# expected return [8, 40, 10, 20]\n",
    "\n",
    "\n",
    "arrayOfProducts(array)"
   ]
  },
  {
   "source": [
    "## First Duplicate Value"
   ],
   "cell_type": "markdown",
   "metadata": {}
  },
  {
   "cell_type": "code",
   "execution_count": null,
   "metadata": {},
   "outputs": [],
   "source": [
    "def firstDuplicateValue(array):\n",
    "    for value in array:\n",
    "        if array[abs(value) - 1] < 0:\n",
    "            return abs(value)\n",
    "        array[abs(value) - 1] *= -1\n",
    "    return -1\n",
    "\n",
    "\n",
    "array = [2, 1, 5, 2, 3, 3, 4]\n",
    "# expected return 2\n",
    "\n",
    "\n",
    "firstDuplicateValue(array)"
   ]
  },
  {
   "source": [
    "## Merge Overlapping Intervals"
   ],
   "cell_type": "markdown",
   "metadata": {}
  },
  {
   "cell_type": "code",
   "execution_count": null,
   "metadata": {},
   "outputs": [],
   "source": [
    "def mergeOverlappingIntervals(intervals):\n",
    "    sortedIntervals = sorted(intervals, key=lambda x: x[0])\n",
    "\n",
    "    mergedIntervals = []\n",
    "    currentInterval = sortedIntervals[0]\n",
    "    mergedIntervals.append(currentInterval)\n",
    "\n",
    "    for nextInterval in sortedIntervals:\n",
    "        _, currentIntervalEnd = currentInterval\n",
    "        nextIntervalStart, nextIntervalEnd = nextInterval\n",
    "\n",
    "        if currentIntervalEnd >= nextIntervalStart:\n",
    "            currentInterval[1] = max(currentIntervalEnd, nextIntervalEnd)\n",
    "        else:\n",
    "            currentInterval = nextInterval\n",
    "            mergedIntervals.append(currentInterval)\n",
    "\n",
    "    return mergedIntervals\n",
    "\n",
    "\n",
    "intervals = [[1, 2], [3, 5], [4, 7], [6, 8], [9, 10]]\n",
    "# expected return [[1, 2], [3, 8], [9, 10]]\n",
    "\n",
    "\n",
    "mergeOverlappingIntervals(intervals)"
   ]
  },
  {
   "source": [
    "## BST Construction"
   ],
   "cell_type": "markdown",
   "metadata": {}
  },
  {
   "cell_type": "code",
   "execution_count": null,
   "metadata": {},
   "outputs": [],
   "source": [
    "class BST:\n",
    "    def __init__(self, value):\n",
    "        self.value = value\n",
    "        self.left = None\n",
    "        self.right = None\n",
    "\n",
    "    # Average: O(log(n)) time | O(1) space\n",
    "    # Worst: O(n) time | O(1) space\n",
    "    def insert(self, value):\n",
    "        currentNode = self\n",
    "        while True:\n",
    "            if value < currentNode.value:\n",
    "                if currentNode.left is None:\n",
    "                    currentNode.left = BST(value)\n",
    "                    break\n",
    "                else:\n",
    "                    currentNode = currentNode.left\n",
    "            else:\n",
    "                if currentNode.right is None:\n",
    "                    currentNode.right = BST(value)\n",
    "                    break\n",
    "                else:\n",
    "                    currentNode = currentNode.right\n",
    "        return self\n",
    "\n",
    "\n",
    "    # Average: O(log(n)) time | O(1) space\n",
    "    # Worst: O(n) time | O(1) space\n",
    "    def contains(self, value):\n",
    "        currentNode = self\n",
    "        while currentNode is not None:\n",
    "            if value < currentNode.value:\n",
    "                currentNode = currentNode.left\n",
    "            elif value > currentNode.value:\n",
    "                currentNode = currentNode.right\n",
    "            else:\n",
    "                return True\n",
    "        return False\n",
    "\n",
    "\n",
    "    # Average: O(log(n)) time | O(1) space\n",
    "    # Worst: O(n) time | O(1) space\n",
    "    def remove(self, value, parentNonde = None):\n",
    "        currentNode = self\n",
    "        while currentNode is not None:\n",
    "            if value < currentNode.value:\n",
    "                parentNonde = currentNode\n",
    "                currentNode = currentNode.left\n",
    "            elif value > currentNode.value:\n",
    "                parentNonde = currentNode\n",
    "                currentNode = currentNode.right\n",
    "            else:\n",
    "                if currentNode.left is not None and currentNode.right is not None:\n",
    "                    currentNode.value = currentNode.right.getMinValue()\n",
    "                    currentNode.right.remove(currentNode.value, currentNode)\n",
    "                elif parentNonde is None:\n",
    "                    if currentNode.left is not None:\n",
    "                        currentNode.value = currentNode.left.value\n",
    "                        currentNode.right = currentNode.left.right\n",
    "                        currentNode.left = currentNode.left.left\n",
    "                    elif currentNode.right is not None:\n",
    "                        currentNode.value = currentNode.right.value\n",
    "                        currentNode.left = currentNode.right.left\n",
    "                        currentNode.right = currentNode.right.right\n",
    "                    else:\n",
    "                        currentNode.value = None\n",
    "                elif parentNonde.left == currentNode:\n",
    "                    parentNonde.left = currentNode.left if currentNode.left is not None else currentNode.right\n",
    "                elif parentNonde.right == currentNode:\n",
    "                    parentNonde.right = currentNode.left if currentNode.left is not None else currentNode.right\n",
    "                break\n",
    "        return self\n",
    "\n",
    "\n",
    "    def getMinValue(self):\n",
    "        currentNode = self\n",
    "        while currentNode.left is not None:\n",
    "            currentNode = currentNode.left\n",
    "        return currentNode.value"
   ]
  },
  {
   "cell_type": "code",
   "execution_count": null,
   "metadata": {},
   "outputs": [],
   "source": [
    "t = BST(3)\n",
    "\n",
    "\n",
    "t.insert(7)\n",
    "t.insert(1)\n",
    "t.insert(5)\n",
    "\n",
    "#   3\n",
    "#  / \\\n",
    "# 1   7\n",
    "#    /\n",
    "#   5"
   ]
  },
  {
   "cell_type": "code",
   "execution_count": null,
   "metadata": {},
   "outputs": [],
   "source": [
    "t.contains(7)\n",
    "# expected return True"
   ]
  },
  {
   "cell_type": "code",
   "execution_count": null,
   "metadata": {},
   "outputs": [],
   "source": [
    "t.contains(4)\n",
    "# expected return False"
   ]
  },
  {
   "cell_type": "code",
   "execution_count": null,
   "metadata": {},
   "outputs": [],
   "source": [
    "t.remove(7)"
   ]
  },
  {
   "cell_type": "code",
   "execution_count": null,
   "metadata": {},
   "outputs": [],
   "source": [
    "t.contains(7)\n",
    "# expected return False"
   ]
  },
  {
   "source": [
    "## \tValidate BST"
   ],
   "cell_type": "markdown",
   "metadata": {}
  },
  {
   "cell_type": "code",
   "execution_count": null,
   "metadata": {},
   "outputs": [],
   "source": [
    "# run BST Construction\n",
    "# create the tree\n",
    "\n",
    "\n",
    "def validateBst(tree):\n",
    "    return validateBstHelper(tree, float(\"-inf\"), float(\"inf\"))\n",
    "\n",
    "\n",
    "def validateBstHelper(tree, minValue, maxValue):\n",
    "    if tree is None:\n",
    "        return True\n",
    "    if tree.value < minValue or tree.value >= maxValue:\n",
    "        return False\n",
    "    leftIsValid = validateBstHelper(tree.left, minValue, tree.value)\n",
    "    return leftIsValid and validateBstHelper(tree.right, tree.value, maxValue)\n",
    "\n",
    "\n",
    "# expected return True\n",
    "\n",
    "\n",
    "validateBst(t)"
   ]
  },
  {
   "source": [
    "## BST Traversal"
   ],
   "cell_type": "markdown",
   "metadata": {}
  },
  {
   "cell_type": "code",
   "execution_count": null,
   "metadata": {},
   "outputs": [],
   "source": [
    "class BST:\n",
    "    def __init__(self, value):\n",
    "        self.value = value\n",
    "        self.left = None\n",
    "        self.right = None\n",
    "\n",
    "    # Average: O(log(n)) time | O(1) space\n",
    "    # Worst: O(n) time | O(1) space\n",
    "    def insert(self, value):\n",
    "        currentNode = self\n",
    "        while True:\n",
    "            if value < currentNode.value:\n",
    "                if currentNode.left is None:\n",
    "                    currentNode.left = BST(value)\n",
    "                    break\n",
    "                else:\n",
    "                    currentNode = currentNode.left\n",
    "            else:\n",
    "                if currentNode.right is None:\n",
    "                    currentNode.right = BST(value)\n",
    "                    break\n",
    "                else:\n",
    "                    currentNode = currentNode.right\n",
    "        return self"
   ]
  },
  {
   "cell_type": "code",
   "execution_count": null,
   "metadata": {},
   "outputs": [],
   "source": [
    "tree = BST(10)\n",
    "\n",
    "tree.insert(5)\n",
    "tree.insert(2)\n",
    "tree.insert(5)\n",
    "tree.insert(1)\n",
    "tree.insert(15)\n",
    "tree.insert(22)\n",
    "\n",
    "\n",
    "    #            10\n",
    "    #         /     \\\n",
    "    #        5      15\n",
    "    #      /   \\      \\\n",
    "    #     2     5      22\n",
    "    #    /\n",
    "    #   1"
   ]
  },
  {
   "cell_type": "code",
   "execution_count": null,
   "metadata": {},
   "outputs": [],
   "source": [
    "def inOrderTraverse(tree, array):\n",
    "    if tree is not None:\n",
    "        inOrderTraverse(tree.left, array)\n",
    "        array.append(tree.value)\n",
    "        inOrderTraverse(tree.right, array)\n",
    "    return array\n",
    "\n",
    "\n",
    "def preOrderTraverse(tree, array):\n",
    "    if tree is not None:\n",
    "        array.append(tree.value)\n",
    "        preOrderTraverse(tree.left, array)\n",
    "        preOrderTraverse(tree.right, array)\n",
    "    return array\n",
    "\n",
    "\n",
    "def postOrderTraverse(tree, array):\n",
    "    if tree is not None:\n",
    "        postOrderTraverse(tree.left, array)\n",
    "        postOrderTraverse(tree.right, array)\n",
    "        array.append(tree.value)\n",
    "    return array"
   ]
  },
  {
   "cell_type": "code",
   "execution_count": null,
   "metadata": {},
   "outputs": [],
   "source": [
    "# expected return [1, 2, 5, 5, 10, 15, 22]\n",
    "\n",
    "\n",
    "inOrderTraverse(tree, array=[])"
   ]
  },
  {
   "cell_type": "code",
   "execution_count": null,
   "metadata": {},
   "outputs": [],
   "source": [
    "# expected return [10, 5, 2, 1, 5, 15, 22]\n",
    "\n",
    "\n",
    "preOrderTraverse(tree, array=[])"
   ]
  },
  {
   "cell_type": "code",
   "execution_count": null,
   "metadata": {},
   "outputs": [],
   "source": [
    "# expected return [1, 2, 5, 5, 22, 15, 10]\n",
    "\n",
    "\n",
    "postOrderTraverse(tree, array=[])"
   ]
  },
  {
   "cell_type": "code",
   "execution_count": null,
   "metadata": {},
   "outputs": [],
   "source": []
  }
 ]
}